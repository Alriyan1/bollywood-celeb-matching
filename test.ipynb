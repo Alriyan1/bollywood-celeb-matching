{
 "cells": [
  {
   "cell_type": "code",
   "execution_count": 11,
   "id": "8b184a08",
   "metadata": {},
   "outputs": [],
   "source": [
    "from keras_vggface.utils import preprocess_input\n",
    "from keras_vggface.vggface import VGGFace\n",
    "import numpy as np\n",
    "import pickle\n",
    "from sklearn.metrics.pairwise import cosine_similarity\n",
    "import cv2\n",
    "from mtcnn import MTCNN\n",
    "from PIL import Image"
   ]
  },
  {
   "cell_type": "code",
   "execution_count": 12,
   "id": "609d047c",
   "metadata": {},
   "outputs": [],
   "source": [
    "feature_list=np.array(pickle.load(open('embedding.pkl','rb')))\n",
    "filenames=pickle.load(open('filenames.pkl','rb'))"
   ]
  },
  {
   "cell_type": "code",
   "execution_count": 13,
   "id": "0ff18472",
   "metadata": {},
   "outputs": [],
   "source": [
    "model=VGGFace(model='resnet50',include_top=False,input_shape=(224,224,3),pooling='avg')\n"
   ]
  },
  {
   "cell_type": "code",
   "execution_count": 14,
   "id": "82113dcc",
   "metadata": {},
   "outputs": [],
   "source": [
    "detector=MTCNN()"
   ]
  },
  {
   "cell_type": "code",
   "execution_count": 34,
   "id": "3d7a0c2b",
   "metadata": {},
   "outputs": [
    {
     "ename": "InvalidImage",
     "evalue": "Image not valid.",
     "output_type": "error",
     "traceback": [
      "\u001b[1;31m---------------------------------------------------------------------------\u001b[0m",
      "\u001b[1;31mInvalidImage\u001b[0m                              Traceback (most recent call last)",
      "Cell \u001b[1;32mIn[34], line 3\u001b[0m\n\u001b[0;32m      1\u001b[0m \u001b[38;5;66;03m# face detection\u001b[39;00m\n\u001b[0;32m      2\u001b[0m sample_img\u001b[38;5;241m=\u001b[39mcv2\u001b[38;5;241m.\u001b[39mimread(\u001b[38;5;124m'\u001b[39m\u001b[38;5;124msample/saif ali.jpg\u001b[39m\u001b[38;5;124m'\u001b[39m)\n\u001b[1;32m----> 3\u001b[0m results\u001b[38;5;241m=\u001b[39m\u001b[43mdetector\u001b[49m\u001b[38;5;241;43m.\u001b[39;49m\u001b[43mdetect_faces\u001b[49m\u001b[43m(\u001b[49m\u001b[43msample_img\u001b[49m\u001b[43m)\u001b[49m\n",
      "File \u001b[1;32m~\\anaconda3\\envs\\tensorflow\\lib\\site-packages\\mtcnn\\mtcnn.py:285\u001b[0m, in \u001b[0;36mMTCNN.detect_faces\u001b[1;34m(self, img)\u001b[0m\n\u001b[0;32m    279\u001b[0m \u001b[38;5;250m\u001b[39m\u001b[38;5;124;03m\"\"\"\u001b[39;00m\n\u001b[0;32m    280\u001b[0m \u001b[38;5;124;03mDetects bounding boxes from the specified image.\u001b[39;00m\n\u001b[0;32m    281\u001b[0m \u001b[38;5;124;03m:param img: image to process\u001b[39;00m\n\u001b[0;32m    282\u001b[0m \u001b[38;5;124;03m:return: list containing all the bounding boxes detected with their keypoints.\u001b[39;00m\n\u001b[0;32m    283\u001b[0m \u001b[38;5;124;03m\"\"\"\u001b[39;00m\n\u001b[0;32m    284\u001b[0m \u001b[38;5;28;01mif\u001b[39;00m img \u001b[38;5;129;01mis\u001b[39;00m \u001b[38;5;28;01mNone\u001b[39;00m \u001b[38;5;129;01mor\u001b[39;00m \u001b[38;5;129;01mnot\u001b[39;00m \u001b[38;5;28mhasattr\u001b[39m(img, \u001b[38;5;124m\"\u001b[39m\u001b[38;5;124mshape\u001b[39m\u001b[38;5;124m\"\u001b[39m):\n\u001b[1;32m--> 285\u001b[0m     \u001b[38;5;28;01mraise\u001b[39;00m InvalidImage(\u001b[38;5;124m\"\u001b[39m\u001b[38;5;124mImage not valid.\u001b[39m\u001b[38;5;124m\"\u001b[39m)\n\u001b[0;32m    287\u001b[0m height, width, _ \u001b[38;5;241m=\u001b[39m img\u001b[38;5;241m.\u001b[39mshape\n\u001b[0;32m    288\u001b[0m stage_status \u001b[38;5;241m=\u001b[39m StageStatus(width\u001b[38;5;241m=\u001b[39mwidth, height\u001b[38;5;241m=\u001b[39mheight)\n",
      "\u001b[1;31mInvalidImage\u001b[0m: Image not valid."
     ]
    }
   ],
   "source": [
    "# face detection\n",
    "sample_img=cv2.imread('sample/saif ali.jpg')\n",
    "results=detector.detect_faces(sample_img)"
   ]
  },
  {
   "cell_type": "code",
   "execution_count": 28,
   "id": "905ac224",
   "metadata": {},
   "outputs": [],
   "source": [
    "x,y,width,height=results[0]['box']\n",
    "face=sample_img[y:y+height,x:x+width]\n"
   ]
  },
  {
   "cell_type": "code",
   "execution_count": 29,
   "id": "bdec00e4",
   "metadata": {},
   "outputs": [
    {
     "name": "stdout",
     "output_type": "stream",
     "text": [
      "1/1 [==============================] - 0s 24ms/step\n"
     ]
    }
   ],
   "source": [
    "# feature extraction\n",
    "image=Image.fromarray(face)\n",
    "image=image.resize((224,224))\n",
    "\n",
    "face_array=np.asarray(image)\n",
    "face_array=face_array.astype('float32')\n",
    "expanded_img=np.expand_dims(face_array,axis=0)\n",
    "preprocessed_img=preprocess_input(expanded_img)\n",
    "result=model.predict(preprocessed_img).flatten()"
   ]
  },
  {
   "cell_type": "code",
   "execution_count": 33,
   "id": "0e74b3e1",
   "metadata": {},
   "outputs": [
    {
     "data": {
      "text/plain": [
       "-1"
      ]
     },
     "execution_count": 33,
     "metadata": {},
     "output_type": "execute_result"
    }
   ],
   "source": [
    "# cosine distance\n",
    "similarity=[]\n",
    "for i in range(len(feature_list)):\n",
    "    similarity.append(cosine_similarity(result.reshape(1,-1),feature_list[i].reshape(1,-1))[0][0])\n",
    "    \n",
    "index_pos=sorted(list(enumerate(similarity)),reverse=True,key=lambda x:x[1])[0][0]\n",
    "\n",
    "temp_img=cv2.imread(filenames[index_pos])\n",
    "imS = cv2.resize(temp_img, (540, 540))\n",
    "cv2.imshow('output',imS)\n",
    "cv2.waitKey(0)"
   ]
  },
  {
   "cell_type": "code",
   "execution_count": null,
   "id": "dcf97bc6",
   "metadata": {},
   "outputs": [],
   "source": []
  }
 ],
 "metadata": {
  "kernelspec": {
   "display_name": "Python 3.9 (tensorflow)",
   "language": "python",
   "name": "tensorflow"
  },
  "language_info": {
   "codemirror_mode": {
    "name": "ipython",
    "version": 3
   },
   "file_extension": ".py",
   "mimetype": "text/x-python",
   "name": "python",
   "nbconvert_exporter": "python",
   "pygments_lexer": "ipython3",
   "version": "3.9.18"
  }
 },
 "nbformat": 4,
 "nbformat_minor": 5
}
